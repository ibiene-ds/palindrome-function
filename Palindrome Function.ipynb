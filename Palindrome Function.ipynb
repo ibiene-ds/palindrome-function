{
 "cells": [
  {
   "cell_type": "code",
   "execution_count": 2,
   "id": "e0f3f46f",
   "metadata": {},
   "outputs": [
    {
     "name": "stdout",
     "output_type": "stream",
     "text": [
      "The largest palindrome within the range indicated is 906609\n"
     ]
    }
   ],
   "source": [
    "def is_palindrome(number):\n",
    "    \"\"\"\n",
    "    this function takes either a number or a string and checks if it is a palindrome. Returns\n",
    "    True if palindrome or False otherwise\n",
    "    \"\"\"\n",
    "    num_str = str(number)\n",
    "    num_str_rev = num_str[::-1]\n",
    "    if num_str == num_str_rev:\n",
    "        return True\n",
    "    else:\n",
    "        return False\n",
    "\n",
    "\n",
    "def multiply_lists(num_list):\n",
    "    \"\"\"\n",
    "    this function multiplies all the elements of a list by itself. For instance, passing a list of length 4,\n",
    "    a = [1, 2, 3, 4 ] to the function gives the resulting list of [1, 2, 3, 4, 2, 4, 6, 8, 3, 6, 9, 12, 4, 8, 12, 16 ]\n",
    "    of length 16\n",
    "    \"\"\"\n",
    "    num_list_dup = num_list.copy()\n",
    "    index = 0\n",
    "    list_of_multiples =[]\n",
    "    for num2 in num_list_dup:\n",
    "        mult_list = [num2 * num_list[index] for num2 in num_list_dup]\n",
    "        list_of_multiples.extend(mult_list)\n",
    "        index = index +1\n",
    "    return (list_of_multiples)\n",
    "\n",
    "\n",
    "def check_largest_palindrome(input_list):\n",
    "    \"\"\"\n",
    "    this function checks any list, generates a sublist of palindromes\n",
    "    and returns the largest palindrome\n",
    "    \"\"\"\n",
    "    palindrome_list =[]\n",
    "    for x in input_list:\n",
    "        if is_palindrome(x) == True:\n",
    "            palindrome_list.append(x)\n",
    "    return max(palindrome_list)\n",
    "\n",
    "\n",
    "def largest_palindrome(list_of_nums):\n",
    "    \"\"\"\n",
    "    this function takes one argument and returns the largest palindrome from a product of a list by itself \n",
    "    \"\"\"\n",
    "    x = multiply_lists(list_of_nums)\n",
    "    y = check_largest_palindrome(x)\n",
    "    return y\n",
    "\n",
    "three_digit_nums = list(range(10, 1000))\n",
    "output = largest_palindrome(three_digit_nums)\n",
    "\n",
    "print (f\"The largest palindrome within the range indicated is {output}\")\n"
   ]
  }
 ],
 "metadata": {
  "kernelspec": {
   "display_name": "Python 3 (ipykernel)",
   "language": "python",
   "name": "python3"
  },
  "language_info": {
   "codemirror_mode": {
    "name": "ipython",
    "version": 3
   },
   "file_extension": ".py",
   "mimetype": "text/x-python",
   "name": "python",
   "nbconvert_exporter": "python",
   "pygments_lexer": "ipython3",
   "version": "3.9.12"
  }
 },
 "nbformat": 4,
 "nbformat_minor": 5
}
